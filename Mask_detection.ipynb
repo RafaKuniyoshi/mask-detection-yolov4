{
  "cells": [
    {
      "cell_type": "markdown",
      "metadata": {
        "id": "view-in-github",
        "colab_type": "text"
      },
      "source": [
        "<a href=\"https://colab.research.google.com/github/RafaKuniyoshi/mask-detection-yolov4/blob/main/Mask_detection.ipynb\" target=\"_parent\"><img src=\"https://colab.research.google.com/assets/colab-badge.svg\" alt=\"Open In Colab\"/></a>"
      ]
    },
    {
      "cell_type": "markdown",
      "source": [
        "# Preparação do ambiente e download das bibliotecas necessárias"
      ],
      "metadata": {
        "id": "fq0vU3i-yj9Z"
      }
    },
    {
      "cell_type": "markdown",
      "metadata": {
        "id": "NKZGKEnlkIUL"
      },
      "source": [
        "Primerio de tudo, precisamos importar os pacotes necessários para realizar as detecções"
      ]
    },
    {
      "cell_type": "code",
      "execution_count": null,
      "metadata": {
        "id": "PGrTWE-Fjzs1"
      },
      "outputs": [],
      "source": [
        "import matplotlib.pyplot as plt\n",
        "import numpy as np\n",
        "import os\n",
        "import pandas as pd\n",
        "import xml.etree.ElementTree as ET \n",
        "import cv2\n",
        "import glob\n",
        "from sklearn.model_selection import train_test_split"
      ]
    },
    {
      "cell_type": "markdown",
      "metadata": {
        "id": "Q2MDlLYXlirc"
      },
      "source": [
        "Agora será necessário instalar o pacote do kaggle para fazer o download dos dados. Será necessário forçar a versão 1.5.8\n"
      ]
    },
    {
      "cell_type": "code",
      "execution_count": null,
      "metadata": {
        "colab": {
          "base_uri": "https://localhost:8080/"
        },
        "id": "87CJqUvikH1t",
        "outputId": "45771d30-9461-42b1-b1e0-69477843547a"
      },
      "outputs": [
        {
          "name": "stdout",
          "output_type": "stream",
          "text": [
            "\u001b[?25l\r\u001b[K     |█████▌                          | 10 kB 20.6 MB/s eta 0:00:01\r\u001b[K     |███████████                     | 20 kB 24.1 MB/s eta 0:00:01\r\u001b[K     |████████████████▋               | 30 kB 15.5 MB/s eta 0:00:01\r\u001b[K     |██████████████████████▏         | 40 kB 6.5 MB/s eta 0:00:01\r\u001b[K     |███████████████████████████▊    | 51 kB 7.2 MB/s eta 0:00:01\r\u001b[K     |████████████████████████████████| 59 kB 3.8 MB/s \n",
            "\u001b[?25h  Building wheel for kaggle (setup.py) ... \u001b[?25l\u001b[?25hdone\n",
            "  Building wheel for slugify (setup.py) ... \u001b[?25l\u001b[?25hdone\n"
          ]
        }
      ],
      "source": [
        "!pip install -U -q kaggle==1.5.8"
      ]
    },
    {
      "cell_type": "markdown",
      "metadata": {
        "id": "73c5yr7enXt9"
      },
      "source": [
        "Verificação que estamos utilizando um runtime com GPU"
      ]
    },
    {
      "cell_type": "code",
      "execution_count": null,
      "metadata": {
        "id": "6tMRMZvfpVE2"
      },
      "outputs": [],
      "source": [
        "gpu_info = !nvidia-smi\n",
        "gpu_info = '\\n'.join(gpu_info)\n",
        "if gpu_info.find('failed') >= 0:\n",
        "  print('Not connected to a GPU')\n",
        "else:\n",
        "  print(gpu_info)"
      ]
    },
    {
      "cell_type": "markdown",
      "metadata": {
        "id": "3g_ltLlcp2BF"
      },
      "source": [
        "Verificando a quantidade de memória RAM disponível"
      ]
    },
    {
      "cell_type": "code",
      "execution_count": null,
      "metadata": {
        "colab": {
          "base_uri": "https://localhost:8080/"
        },
        "id": "aVpBdFzKp7Yq",
        "outputId": "21e18802-6105-4e5d-ec64-2533c13364b6"
      },
      "outputs": [
        {
          "output_type": "stream",
          "name": "stdout",
          "text": [
            "Your runtime has 54.8 gigabytes of available RAM\n",
            "\n",
            "You are using a high-RAM runtime!\n"
          ]
        }
      ],
      "source": [
        "from psutil import virtual_memory\n",
        "ram_gb = virtual_memory().total / 1e9\n",
        "print('Your runtime has {:.1f} gigabytes of available RAM\\n'.format(ram_gb))\n",
        "\n",
        "if ram_gb < 20:\n",
        "  print('Not using a high-RAM runtime')\n",
        "else:\n",
        "  print('You are using a high-RAM runtime!')"
      ]
    },
    {
      "cell_type": "markdown",
      "source": [
        "Agora vamos montar o disco do drive para salvar o dataset e outras informações vindas do YoloV4"
      ],
      "metadata": {
        "id": "a2NwWitixhUj"
      }
    },
    {
      "cell_type": "code",
      "execution_count": null,
      "metadata": {
        "colab": {
          "base_uri": "https://localhost:8080/"
        },
        "id": "fE3yp1Vs8Bgb",
        "outputId": "f2af81b7-e876-41ff-e064-b7a947e274f8"
      },
      "outputs": [
        {
          "output_type": "stream",
          "name": "stdout",
          "text": [
            "Mounted at /content/drive\n"
          ]
        }
      ],
      "source": [
        "from google.colab import drive\n",
        "drive.mount('/content/drive')"
      ]
    },
    {
      "cell_type": "markdown",
      "source": [
        "Nessa parte estamos criando um link simbólico para o drive e criando a pasta onde vamos salvar o dataset e algumas outras informações"
      ],
      "metadata": {
        "id": "miJVK1btxtJe"
      }
    },
    {
      "cell_type": "code",
      "execution_count": null,
      "metadata": {
        "colab": {
          "base_uri": "https://localhost:8080/"
        },
        "id": "vQKuTklE8SDm",
        "outputId": "d87e4093-e426-4d03-aa94-b297e3ea7469"
      },
      "outputs": [
        {
          "name": "stdout",
          "output_type": "stream",
          "text": [
            "/content/drive/MyDrive\n"
          ]
        }
      ],
      "source": [
        "# this creates a symbolic link so that now the path /content/gdrive/My\\ Drive/ is equal to /mydrive\n",
        "!ln -s /content/gdrive/My\\ Drive/ /mydrive\n",
        "!ls /mydrive\n",
        "\n",
        "%cd drive/MyDrive/\n",
        "%mkdir faceMaskYolo\n",
        "%cd faceMaskYolo/\n",
        "%mkdir backup"
      ]
    },
    {
      "cell_type": "markdown",
      "source": [
        "Vamos fazer o upload da chave do Kaggle para fazer o download do dataset"
      ],
      "metadata": {
        "id": "SDR3YUL9x8ae"
      }
    },
    {
      "cell_type": "code",
      "execution_count": null,
      "metadata": {
        "colab": {
          "base_uri": "https://localhost:8080/",
          "height": 90,
          "resources": {
            "http://localhost:8080/nbextensions/google.colab/files.js": {
              "data": "Ly8gQ29weXJpZ2h0IDIwMTcgR29vZ2xlIExMQwovLwovLyBMaWNlbnNlZCB1bmRlciB0aGUgQXBhY2hlIExpY2Vuc2UsIFZlcnNpb24gMi4wICh0aGUgIkxpY2Vuc2UiKTsKLy8geW91IG1heSBub3QgdXNlIHRoaXMgZmlsZSBleGNlcHQgaW4gY29tcGxpYW5jZSB3aXRoIHRoZSBMaWNlbnNlLgovLyBZb3UgbWF5IG9idGFpbiBhIGNvcHkgb2YgdGhlIExpY2Vuc2UgYXQKLy8KLy8gICAgICBodHRwOi8vd3d3LmFwYWNoZS5vcmcvbGljZW5zZXMvTElDRU5TRS0yLjAKLy8KLy8gVW5sZXNzIHJlcXVpcmVkIGJ5IGFwcGxpY2FibGUgbGF3IG9yIGFncmVlZCB0byBpbiB3cml0aW5nLCBzb2Z0d2FyZQovLyBkaXN0cmlidXRlZCB1bmRlciB0aGUgTGljZW5zZSBpcyBkaXN0cmlidXRlZCBvbiBhbiAiQVMgSVMiIEJBU0lTLAovLyBXSVRIT1VUIFdBUlJBTlRJRVMgT1IgQ09ORElUSU9OUyBPRiBBTlkgS0lORCwgZWl0aGVyIGV4cHJlc3Mgb3IgaW1wbGllZC4KLy8gU2VlIHRoZSBMaWNlbnNlIGZvciB0aGUgc3BlY2lmaWMgbGFuZ3VhZ2UgZ292ZXJuaW5nIHBlcm1pc3Npb25zIGFuZAovLyBsaW1pdGF0aW9ucyB1bmRlciB0aGUgTGljZW5zZS4KCi8qKgogKiBAZmlsZW92ZXJ2aWV3IEhlbHBlcnMgZm9yIGdvb2dsZS5jb2xhYiBQeXRob24gbW9kdWxlLgogKi8KKGZ1bmN0aW9uKHNjb3BlKSB7CmZ1bmN0aW9uIHNwYW4odGV4dCwgc3R5bGVBdHRyaWJ1dGVzID0ge30pIHsKICBjb25zdCBlbGVtZW50ID0gZG9jdW1lbnQuY3JlYXRlRWxlbWVudCgnc3BhbicpOwogIGVsZW1lbnQudGV4dENvbnRlbnQgPSB0ZXh0OwogIGZvciAoY29uc3Qga2V5IG9mIE9iamVjdC5rZXlzKHN0eWxlQXR0cmlidXRlcykpIHsKICAgIGVsZW1lbnQuc3R5bGVba2V5XSA9IHN0eWxlQXR0cmlidXRlc1trZXldOwogIH0KICByZXR1cm4gZWxlbWVudDsKfQoKLy8gTWF4IG51bWJlciBvZiBieXRlcyB3aGljaCB3aWxsIGJlIHVwbG9hZGVkIGF0IGEgdGltZS4KY29uc3QgTUFYX1BBWUxPQURfU0laRSA9IDEwMCAqIDEwMjQ7CgpmdW5jdGlvbiBfdXBsb2FkRmlsZXMoaW5wdXRJZCwgb3V0cHV0SWQpIHsKICBjb25zdCBzdGVwcyA9IHVwbG9hZEZpbGVzU3RlcChpbnB1dElkLCBvdXRwdXRJZCk7CiAgY29uc3Qgb3V0cHV0RWxlbWVudCA9IGRvY3VtZW50LmdldEVsZW1lbnRCeUlkKG91dHB1dElkKTsKICAvLyBDYWNoZSBzdGVwcyBvbiB0aGUgb3V0cHV0RWxlbWVudCB0byBtYWtlIGl0IGF2YWlsYWJsZSBmb3IgdGhlIG5leHQgY2FsbAogIC8vIHRvIHVwbG9hZEZpbGVzQ29udGludWUgZnJvbSBQeXRob24uCiAgb3V0cHV0RWxlbWVudC5zdGVwcyA9IHN0ZXBzOwoKICByZXR1cm4gX3VwbG9hZEZpbGVzQ29udGludWUob3V0cHV0SWQpOwp9CgovLyBUaGlzIGlzIHJvdWdobHkgYW4gYXN5bmMgZ2VuZXJhdG9yIChub3Qgc3VwcG9ydGVkIGluIHRoZSBicm93c2VyIHlldCksCi8vIHdoZXJlIHRoZXJlIGFyZSBtdWx0aXBsZSBhc3luY2hyb25vdXMgc3RlcHMgYW5kIHRoZSBQeXRob24gc2lkZSBpcyBnb2luZwovLyB0byBwb2xsIGZvciBjb21wbGV0aW9uIG9mIGVhY2ggc3RlcC4KLy8gVGhpcyB1c2VzIGEgUHJvbWlzZSB0byBibG9jayB0aGUgcHl0aG9uIHNpZGUgb24gY29tcGxldGlvbiBvZiBlYWNoIHN0ZXAsCi8vIHRoZW4gcGFzc2VzIHRoZSByZXN1bHQgb2YgdGhlIHByZXZpb3VzIHN0ZXAgYXMgdGhlIGlucHV0IHRvIHRoZSBuZXh0IHN0ZXAuCmZ1bmN0aW9uIF91cGxvYWRGaWxlc0NvbnRpbnVlKG91dHB1dElkKSB7CiAgY29uc3Qgb3V0cHV0RWxlbWVudCA9IGRvY3VtZW50LmdldEVsZW1lbnRCeUlkKG91dHB1dElkKTsKICBjb25zdCBzdGVwcyA9IG91dHB1dEVsZW1lbnQuc3RlcHM7CgogIGNvbnN0IG5leHQgPSBzdGVwcy5uZXh0KG91dHB1dEVsZW1lbnQubGFzdFByb21pc2VWYWx1ZSk7CiAgcmV0dXJuIFByb21pc2UucmVzb2x2ZShuZXh0LnZhbHVlLnByb21pc2UpLnRoZW4oKHZhbHVlKSA9PiB7CiAgICAvLyBDYWNoZSB0aGUgbGFzdCBwcm9taXNlIHZhbHVlIHRvIG1ha2UgaXQgYXZhaWxhYmxlIHRvIHRoZSBuZXh0CiAgICAvLyBzdGVwIG9mIHRoZSBnZW5lcmF0b3IuCiAgICBvdXRwdXRFbGVtZW50Lmxhc3RQcm9taXNlVmFsdWUgPSB2YWx1ZTsKICAgIHJldHVybiBuZXh0LnZhbHVlLnJlc3BvbnNlOwogIH0pOwp9CgovKioKICogR2VuZXJhdG9yIGZ1bmN0aW9uIHdoaWNoIGlzIGNhbGxlZCBiZXR3ZWVuIGVhY2ggYXN5bmMgc3RlcCBvZiB0aGUgdXBsb2FkCiAqIHByb2Nlc3MuCiAqIEBwYXJhbSB7c3RyaW5nfSBpbnB1dElkIEVsZW1lbnQgSUQgb2YgdGhlIGlucHV0IGZpbGUgcGlja2VyIGVsZW1lbnQuCiAqIEBwYXJhbSB7c3RyaW5nfSBvdXRwdXRJZCBFbGVtZW50IElEIG9mIHRoZSBvdXRwdXQgZGlzcGxheS4KICogQHJldHVybiB7IUl0ZXJhYmxlPCFPYmplY3Q+fSBJdGVyYWJsZSBvZiBuZXh0IHN0ZXBzLgogKi8KZnVuY3Rpb24qIHVwbG9hZEZpbGVzU3RlcChpbnB1dElkLCBvdXRwdXRJZCkgewogIGNvbnN0IGlucHV0RWxlbWVudCA9IGRvY3VtZW50LmdldEVsZW1lbnRCeUlkKGlucHV0SWQpOwogIGlucHV0RWxlbWVudC5kaXNhYmxlZCA9IGZhbHNlOwoKICBjb25zdCBvdXRwdXRFbGVtZW50ID0gZG9jdW1lbnQuZ2V0RWxlbWVudEJ5SWQob3V0cHV0SWQpOwogIG91dHB1dEVsZW1lbnQuaW5uZXJIVE1MID0gJyc7CgogIGNvbnN0IHBpY2tlZFByb21pc2UgPSBuZXcgUHJvbWlzZSgocmVzb2x2ZSkgPT4gewogICAgaW5wdXRFbGVtZW50LmFkZEV2ZW50TGlzdGVuZXIoJ2NoYW5nZScsIChlKSA9PiB7CiAgICAgIHJlc29sdmUoZS50YXJnZXQuZmlsZXMpOwogICAgfSk7CiAgfSk7CgogIGNvbnN0IGNhbmNlbCA9IGRvY3VtZW50LmNyZWF0ZUVsZW1lbnQoJ2J1dHRvbicpOwogIGlucHV0RWxlbWVudC5wYXJlbnRFbGVtZW50LmFwcGVuZENoaWxkKGNhbmNlbCk7CiAgY2FuY2VsLnRleHRDb250ZW50ID0gJ0NhbmNlbCB1cGxvYWQnOwogIGNvbnN0IGNhbmNlbFByb21pc2UgPSBuZXcgUHJvbWlzZSgocmVzb2x2ZSkgPT4gewogICAgY2FuY2VsLm9uY2xpY2sgPSAoKSA9PiB7CiAgICAgIHJlc29sdmUobnVsbCk7CiAgICB9OwogIH0pOwoKICAvLyBXYWl0IGZvciB0aGUgdXNlciB0byBwaWNrIHRoZSBmaWxlcy4KICBjb25zdCBmaWxlcyA9IHlpZWxkIHsKICAgIHByb21pc2U6IFByb21pc2UucmFjZShbcGlja2VkUHJvbWlzZSwgY2FuY2VsUHJvbWlzZV0pLAogICAgcmVzcG9uc2U6IHsKICAgICAgYWN0aW9uOiAnc3RhcnRpbmcnLAogICAgfQogIH07CgogIGNhbmNlbC5yZW1vdmUoKTsKCiAgLy8gRGlzYWJsZSB0aGUgaW5wdXQgZWxlbWVudCBzaW5jZSBmdXJ0aGVyIHBpY2tzIGFyZSBub3QgYWxsb3dlZC4KICBpbnB1dEVsZW1lbnQuZGlzYWJsZWQgPSB0cnVlOwoKICBpZiAoIWZpbGVzKSB7CiAgICByZXR1cm4gewogICAgICByZXNwb25zZTogewogICAgICAgIGFjdGlvbjogJ2NvbXBsZXRlJywKICAgICAgfQogICAgfTsKICB9CgogIGZvciAoY29uc3QgZmlsZSBvZiBmaWxlcykgewogICAgY29uc3QgbGkgPSBkb2N1bWVudC5jcmVhdGVFbGVtZW50KCdsaScpOwogICAgbGkuYXBwZW5kKHNwYW4oZmlsZS5uYW1lLCB7Zm9udFdlaWdodDogJ2JvbGQnfSkpOwogICAgbGkuYXBwZW5kKHNwYW4oCiAgICAgICAgYCgke2ZpbGUudHlwZSB8fCAnbi9hJ30pIC0gJHtmaWxlLnNpemV9IGJ5dGVzLCBgICsKICAgICAgICBgbGFzdCBtb2RpZmllZDogJHsKICAgICAgICAgICAgZmlsZS5sYXN0TW9kaWZpZWREYXRlID8gZmlsZS5sYXN0TW9kaWZpZWREYXRlLnRvTG9jYWxlRGF0ZVN0cmluZygpIDoKICAgICAgICAgICAgICAgICAgICAgICAgICAgICAgICAgICAgJ24vYSd9IC0gYCkpOwogICAgY29uc3QgcGVyY2VudCA9IHNwYW4oJzAlIGRvbmUnKTsKICAgIGxpLmFwcGVuZENoaWxkKHBlcmNlbnQpOwoKICAgIG91dHB1dEVsZW1lbnQuYXBwZW5kQ2hpbGQobGkpOwoKICAgIGNvbnN0IGZpbGVEYXRhUHJvbWlzZSA9IG5ldyBQcm9taXNlKChyZXNvbHZlKSA9PiB7CiAgICAgIGNvbnN0IHJlYWRlciA9IG5ldyBGaWxlUmVhZGVyKCk7CiAgICAgIHJlYWRlci5vbmxvYWQgPSAoZSkgPT4gewogICAgICAgIHJlc29sdmUoZS50YXJnZXQucmVzdWx0KTsKICAgICAgfTsKICAgICAgcmVhZGVyLnJlYWRBc0FycmF5QnVmZmVyKGZpbGUpOwogICAgfSk7CiAgICAvLyBXYWl0IGZvciB0aGUgZGF0YSB0byBiZSByZWFkeS4KICAgIGxldCBmaWxlRGF0YSA9IHlpZWxkIHsKICAgICAgcHJvbWlzZTogZmlsZURhdGFQcm9taXNlLAogICAgICByZXNwb25zZTogewogICAgICAgIGFjdGlvbjogJ2NvbnRpbnVlJywKICAgICAgfQogICAgfTsKCiAgICAvLyBVc2UgYSBjaHVua2VkIHNlbmRpbmcgdG8gYXZvaWQgbWVzc2FnZSBzaXplIGxpbWl0cy4gU2VlIGIvNjIxMTU2NjAuCiAgICBsZXQgcG9zaXRpb24gPSAwOwogICAgZG8gewogICAgICBjb25zdCBsZW5ndGggPSBNYXRoLm1pbihmaWxlRGF0YS5ieXRlTGVuZ3RoIC0gcG9zaXRpb24sIE1BWF9QQVlMT0FEX1NJWkUpOwogICAgICBjb25zdCBjaHVuayA9IG5ldyBVaW50OEFycmF5KGZpbGVEYXRhLCBwb3NpdGlvbiwgbGVuZ3RoKTsKICAgICAgcG9zaXRpb24gKz0gbGVuZ3RoOwoKICAgICAgY29uc3QgYmFzZTY0ID0gYnRvYShTdHJpbmcuZnJvbUNoYXJDb2RlLmFwcGx5KG51bGwsIGNodW5rKSk7CiAgICAgIHlpZWxkIHsKICAgICAgICByZXNwb25zZTogewogICAgICAgICAgYWN0aW9uOiAnYXBwZW5kJywKICAgICAgICAgIGZpbGU6IGZpbGUubmFtZSwKICAgICAgICAgIGRhdGE6IGJhc2U2NCwKICAgICAgICB9LAogICAgICB9OwoKICAgICAgbGV0IHBlcmNlbnREb25lID0gZmlsZURhdGEuYnl0ZUxlbmd0aCA9PT0gMCA/CiAgICAgICAgICAxMDAgOgogICAgICAgICAgTWF0aC5yb3VuZCgocG9zaXRpb24gLyBmaWxlRGF0YS5ieXRlTGVuZ3RoKSAqIDEwMCk7CiAgICAgIHBlcmNlbnQudGV4dENvbnRlbnQgPSBgJHtwZXJjZW50RG9uZX0lIGRvbmVgOwoKICAgIH0gd2hpbGUgKHBvc2l0aW9uIDwgZmlsZURhdGEuYnl0ZUxlbmd0aCk7CiAgfQoKICAvLyBBbGwgZG9uZS4KICB5aWVsZCB7CiAgICByZXNwb25zZTogewogICAgICBhY3Rpb246ICdjb21wbGV0ZScsCiAgICB9CiAgfTsKfQoKc2NvcGUuZ29vZ2xlID0gc2NvcGUuZ29vZ2xlIHx8IHt9OwpzY29wZS5nb29nbGUuY29sYWIgPSBzY29wZS5nb29nbGUuY29sYWIgfHwge307CnNjb3BlLmdvb2dsZS5jb2xhYi5fZmlsZXMgPSB7CiAgX3VwbG9hZEZpbGVzLAogIF91cGxvYWRGaWxlc0NvbnRpbnVlLAp9Owp9KShzZWxmKTsK",
              "headers": [
                [
                  "content-type",
                  "application/javascript"
                ]
              ],
              "ok": true,
              "status": 200,
              "status_text": ""
            }
          }
        },
        "id": "WjPmKEkC7_gB",
        "outputId": "b0423917-6212-41fe-8cc4-719eb9fcb3b0"
      },
      "outputs": [
        {
          "data": {
            "text/html": [
              "\n",
              "     <input type=\"file\" id=\"files-6bf6f723-f5f1-46f3-8f09-0a1d0ac706e5\" name=\"files[]\" multiple disabled\n",
              "        style=\"border:none\" />\n",
              "     <output id=\"result-6bf6f723-f5f1-46f3-8f09-0a1d0ac706e5\">\n",
              "      Upload widget is only available when the cell has been executed in the\n",
              "      current browser session. Please rerun this cell to enable.\n",
              "      </output>\n",
              "      <script src=\"/nbextensions/google.colab/files.js\"></script> "
            ],
            "text/plain": [
              "<IPython.core.display.HTML object>"
            ]
          },
          "metadata": {},
          "output_type": "display_data"
        },
        {
          "name": "stdout",
          "output_type": "stream",
          "text": [
            "Saving kaggle.json to kaggle.json\n",
            "User uploaded file \"kaggle.json\" with length 64 bytes\n"
          ]
        }
      ],
      "source": [
        "from google.colab import files\n",
        "\n",
        "uploaded = files.upload()\n",
        "\n",
        "for fn in uploaded.keys():\n",
        "  print('User uploaded file \"{name}\" with length {length} bytes'.format(\n",
        "      name=fn, length=len(uploaded[fn])))\n",
        "  \n",
        "# Then move kaggle.json into the folder where the API expects to find it.\n",
        "!mkdir -p ~/.kaggle/ && mv kaggle.json ~/.kaggle/ && chmod 600 ~/.kaggle/kaggle.json"
      ]
    },
    {
      "cell_type": "markdown",
      "metadata": {
        "id": "LvFxHr6arfPz"
      },
      "source": [
        "Vamos copiar os dados do Kaggle utilizando a api que instalamos"
      ]
    },
    {
      "cell_type": "code",
      "execution_count": null,
      "metadata": {
        "id": "mvrFqYM2rdEe"
      },
      "outputs": [],
      "source": [
        "!kaggle datasets download -d andrewmvd/face-mask-detection\n",
        "!mkdir face-mask-detection\n",
        "!unzip face-mask-detection.zip -d face-mask-detection"
      ]
    },
    {
      "cell_type": "markdown",
      "source": [
        "Voltamos para a raiz do projeto"
      ],
      "metadata": {
        "id": "Sy6Q2WmmyHvm"
      }
    },
    {
      "cell_type": "code",
      "execution_count": null,
      "metadata": {
        "colab": {
          "base_uri": "https://localhost:8080/"
        },
        "id": "fpMcoQQ3CHhx",
        "outputId": "ae6b1234-9ec4-41c4-8b3c-0740f850cf83"
      },
      "outputs": [
        {
          "output_type": "stream",
          "name": "stdout",
          "text": [
            "/content\n",
            "\u001b[0m\u001b[01;34mdrive\u001b[0m/  \u001b[01;34msample_data\u001b[0m/\n"
          ]
        }
      ],
      "source": [
        "%cd /content\n",
        "%ls\n"
      ]
    },
    {
      "cell_type": "markdown",
      "metadata": {
        "id": "3RHbLC-krb-5"
      },
      "source": [
        "Agora preciso copiar os arquivos da nossa rede neural. Vamos utilizar o darknet que apresenta resultados incríveis.\n",
        "Essa parte da intalação está exatamente igual ao que pode ser encontrado no github do autor do Yolov4"
      ]
    },
    {
      "cell_type": "code",
      "execution_count": null,
      "metadata": {
        "colab": {
          "base_uri": "https://localhost:8080/"
        },
        "id": "41G6QB2rrqGU",
        "outputId": "5a64662e-e52a-4398-ed13-676bfd83960b"
      },
      "outputs": [
        {
          "output_type": "stream",
          "name": "stdout",
          "text": [
            "Cloning into 'darknet'...\n",
            "remote: Enumerating objects: 15412, done.\u001b[K\n",
            "remote: Total 15412 (delta 0), reused 0 (delta 0), pack-reused 15412\u001b[K\n",
            "Receiving objects: 100% (15412/15412), 14.02 MiB | 23.89 MiB/s, done.\n",
            "Resolving deltas: 100% (10356/10356), done.\n"
          ]
        }
      ],
      "source": [
        "!git clone https://github.com/AlexeyAB/darknet"
      ]
    },
    {
      "cell_type": "markdown",
      "source": [
        "Agora é necessário fazer algumas alterações no arquivo Makefile para liberar o usu do OPENCV e GPU"
      ],
      "metadata": {
        "id": "flNCE5bVyLly"
      }
    },
    {
      "cell_type": "code",
      "execution_count": null,
      "metadata": {
        "colab": {
          "base_uri": "https://localhost:8080/"
        },
        "id": "kzSYMalKoCwv",
        "outputId": "598d4d43-0c8b-4dc1-f77a-6dfed3f303ec"
      },
      "outputs": [
        {
          "output_type": "stream",
          "name": "stdout",
          "text": [
            "/content/darknet\n"
          ]
        }
      ],
      "source": [
        "# change makefile to have GPU and OPENCV enabled\n",
        "%cd darknet\n",
        "!sed -i 's/OPENCV=0/OPENCV=1/' Makefile\n",
        "!sed -i 's/GPU=0/GPU=1/' Makefile\n",
        "!sed -i 's/CUDNN=0/CUDNN=1/' Makefile\n",
        "!sed -i 's/CUDNN_HALF=0/CUDNN_HALF=1/' Makefile"
      ]
    },
    {
      "cell_type": "markdown",
      "source": [
        "Verificamos se estamos usando o CUDA"
      ],
      "metadata": {
        "id": "yIJdf7hUyaad"
      }
    },
    {
      "cell_type": "code",
      "execution_count": null,
      "metadata": {
        "colab": {
          "base_uri": "https://localhost:8080/"
        },
        "id": "koceF-VZoKMl",
        "outputId": "26e75557-2704-414a-a34b-c91d2958a58e"
      },
      "outputs": [
        {
          "output_type": "stream",
          "name": "stdout",
          "text": [
            "nvcc: NVIDIA (R) Cuda compiler driver\n",
            "Copyright (c) 2005-2020 NVIDIA Corporation\n",
            "Built on Mon_Oct_12_20:09:46_PDT_2020\n",
            "Cuda compilation tools, release 11.1, V11.1.105\n",
            "Build cuda_11.1.TC455_06.29190527_0\n"
          ]
        }
      ],
      "source": [
        "# verify CUDA\n",
        "!/usr/local/cuda/bin/nvcc --version"
      ]
    },
    {
      "cell_type": "markdown",
      "metadata": {
        "id": "bzCHbHZpodLO"
      },
      "source": [
        "Hora de dar um build no darknet"
      ]
    },
    {
      "cell_type": "code",
      "execution_count": null,
      "metadata": {
        "id": "VvWw3w7-oZjL"
      },
      "outputs": [],
      "source": [
        "# make darknet (builds darknet so that you can then use the darknet executable file to run or train object detectors)\n",
        "!make"
      ]
    },
    {
      "cell_type": "markdown",
      "source": [
        "# Tratamento do dataset e criação das funções necessárias para o treinamento"
      ],
      "metadata": {
        "id": "keEcq3VoymDM"
      }
    },
    {
      "cell_type": "markdown",
      "source": [
        "Vamos definir a função convert, que será responsável por passar as anotações do formato PASCAL para o formato esperado pelo YOLOv4"
      ],
      "metadata": {
        "id": "n0hg0rirzlMX"
      }
    },
    {
      "cell_type": "code",
      "execution_count": null,
      "metadata": {
        "id": "PBlX050dJkEW"
      },
      "outputs": [],
      "source": [
        "def convert(size: tuple, box: list): \n",
        "    largura_relativa = 1./size[0]\n",
        "    altura_relativa = 1./size[1]\n",
        "    x = (box['xmax'] + box['xmin'])/2.0\n",
        "    y = (box['ymax'] + box['ymin'])/2.0\n",
        "    w = abs(box['xmax'] - box['xmin'])\n",
        "    h = abs(box['ymax'] - box['ymin'])\n",
        "    x = x*largura_relativa\n",
        "    w = w*largura_relativa\n",
        "    y = y*altura_relativa\n",
        "    h = h*altura_relativa\n",
        "\n",
        "    return (x, y, w, h)"
      ]
    },
    {
      "cell_type": "markdown",
      "source": [
        "Agora definimos a função xml_to_text que ficará responsável por pegar cada anotação do nosso dataset e chamar a função convert para converter as anotações e salva-las"
      ],
      "metadata": {
        "id": "smezkRq50AcH"
      }
    },
    {
      "cell_type": "code",
      "execution_count": null,
      "metadata": {
        "id": "UuDRd1R04i87"
      },
      "outputs": [],
      "source": [
        "def xml_to_txt(input_path: str, output_path: str):\n",
        "    classes = {'with_mask' : '0',\n",
        "                     'without_mask' : '1',\n",
        "                     'mask_weared_incorrect' : '2'}\n",
        "\n",
        "    for xml_file in glob.glob(input_path + '/*.xml'):       \n",
        "        tree = ET.parse(xml_file)\n",
        "        root = tree.getroot()\n",
        "\n",
        "        txt_list = []\n",
        "        for member in root.findall(\"object\"):\n",
        "            f_name = root.find(\"filename\").text\n",
        "            width, height = int(root.find('size')[0].text), int(root.find(\"size\")[1].text)\n",
        "            label = member[0].text\n",
        "            box = {}\n",
        "            bndbox = member.find(\"bndbox\")\n",
        "            box['xmin'] = float(bndbox.find(\"xmin\").text)\n",
        "            box['ymin'] = float(bndbox.find(\"ymin\").text)\n",
        "            box['xmax'] = float(bndbox.find(\"xmax\").text)\n",
        "            box['ymax'] = float(bndbox.find(\"ymax\").text)\n",
        "\n",
        "            box_yolo_format = convert((width, height), box)                     \n",
        "\n",
        "            txt_list.append(classes.get(label) + \" \" + \" \".join([str(l) for l in box_yolo_format]) + \"\\n\")\n",
        "\n",
        "        print(f\"Building: {f_name.split('.')[0]}.txt\")\n",
        "        with open(output_path + \"//\" + f_name.split(\".\")[0] + \".txt\", \"w\") as writer:\n",
        "            for obj in txt_list:\n",
        "                writer.write(obj)"
      ]
    },
    {
      "cell_type": "markdown",
      "source": [
        "Chamada da xml_to_text salvando as anotações junto das imanges"
      ],
      "metadata": {
        "id": "IkeSr5vB0PYq"
      }
    },
    {
      "cell_type": "code",
      "execution_count": null,
      "metadata": {
        "id": "Tg1MYlNw8U3y"
      },
      "outputs": [],
      "source": [
        "xml_to_txt('/content/drive/MyDrive/faceMaskYolo/face-mask-detection/annotations', '/content/drive/MyDrive/faceMaskYolo/face-mask-detection/images')"
      ]
    },
    {
      "cell_type": "markdown",
      "source": [
        "Agora vamos dividir nosso dataset entre treino e teste. Estamos seguindo com 80% em treinamento e 20% em teste"
      ],
      "metadata": {
        "id": "siBFxvX-0WNK"
      }
    },
    {
      "cell_type": "code",
      "execution_count": null,
      "metadata": {
        "id": "ZC8NGCGs-UfE"
      },
      "outputs": [],
      "source": [
        "imagens = glob.glob(\"/content/drive/MyDrive/faceMaskYolo/face-mask-detection/images\" + '/*.png')\n",
        "treino, teste = train_test_split(imagens, test_size=0.2, random_state=42)\n"
      ]
    },
    {
      "cell_type": "markdown",
      "source": [
        "Definimos a função que ficará responsável em enviar as imagens e suas anotações para as pastas corretas"
      ],
      "metadata": {
        "id": "GFSPwNxo0sx3"
      }
    },
    {
      "cell_type": "code",
      "execution_count": null,
      "metadata": {
        "id": "HOt_3o_4WpTV"
      },
      "outputs": [],
      "source": [
        "import shutil\n",
        "def copy_images_to_right_folder(images: list, folder: str):\n",
        "  for image in images:\n",
        "    shutil.copy(image, folder)\n",
        "    shutil.copy(image.split('.')[0] + '.txt', folder) #linha responsável por pegar o TXT com as coordenadas"
      ]
    },
    {
      "cell_type": "markdown",
      "source": [
        "Criamos as pastas"
      ],
      "metadata": {
        "id": "OcyhKPxT0z2u"
      }
    },
    {
      "cell_type": "code",
      "execution_count": null,
      "metadata": {
        "colab": {
          "base_uri": "https://localhost:8080/"
        },
        "id": "Gr-ndd22XcPX",
        "outputId": "e4783ae5-f52e-429e-f6df-0c023bf6e062"
      },
      "outputs": [
        {
          "name": "stdout",
          "output_type": "stream",
          "text": [
            "/content/drive/MyDrive/faceMaskYolo\n"
          ]
        }
      ],
      "source": [
        "%cd /content/drive/MyDrive/faceMaskYolo\n",
        "%mkdir obj\n",
        "%mkdir test"
      ]
    },
    {
      "cell_type": "markdown",
      "source": [
        "Chamamos a função copy_images_to_right_folde, passando o treino e teste, com suas respectivas pastas"
      ],
      "metadata": {
        "id": "uru11IGA02Ww"
      }
    },
    {
      "cell_type": "code",
      "execution_count": null,
      "metadata": {
        "id": "ByffaeOJXuQA"
      },
      "outputs": [],
      "source": [
        "copy_images_to_right_folder(treino, '/content/drive/MyDrive/faceMaskYolo/obj')\n",
        "copy_images_to_right_folder(teste, '/content/drive/MyDrive/faceMaskYolo/test')"
      ]
    },
    {
      "cell_type": "markdown",
      "source": [
        "Copiamos a estrutura do YOLOv4 para os nossos arquivos já que teremos que fazer algumas alterações. Após isso foi necessário fazer algumas alterações manuais, como mudar o tamanho da batch para 32, acertar os filtros aplicados nas camadas do YOLOv4, para 24, e trocar o número de classes para 3"
      ],
      "metadata": {
        "id": "w0aWWKvb1Dox"
      }
    },
    {
      "cell_type": "code",
      "execution_count": null,
      "metadata": {
        "id": "iUNyTLdyHz6_"
      },
      "outputs": [],
      "source": [
        "!cp /content/darknet/cfg/yolov4-custom.cfg /content/drive/MyDrive/faceMaskYolo/yolov4-obj.cfg"
      ]
    },
    {
      "cell_type": "markdown",
      "source": [
        "Agora será necessário copiar a estrutura do nosso drive para o ambiente local"
      ],
      "metadata": {
        "id": "SQ0RbvxL1Np9"
      }
    },
    {
      "cell_type": "code",
      "execution_count": null,
      "metadata": {
        "id": "LMtIDbwgbML3"
      },
      "outputs": [],
      "source": [
        "%cp /content/drive/MyDrive/faceMaskYolo/obj /content/darknet/data -r\n",
        "%cp /content/drive/MyDrive/faceMaskYolo/test /content/darknet/data -r\n",
        "%cp /content/drive/MyDrive/faceMaskYolo/obj.data /content/darknet/data \n",
        "%cp /content/drive/MyDrive/faceMaskYolo/obj.names /content/darknet/data \n",
        "%cp /content/drive/MyDrive/faceMaskYolo/yolov4-obj.cfg /content/darknet/cfg\n"
      ]
    },
    {
      "cell_type": "markdown",
      "source": [
        "Voltamos para dentro da pasta do darknet"
      ],
      "metadata": {
        "id": "svH-tHc91rSh"
      }
    },
    {
      "cell_type": "code",
      "execution_count": null,
      "metadata": {
        "id": "k64LUsH_iPrc"
      },
      "outputs": [],
      "source": [
        "%cd /content/darknet"
      ]
    },
    {
      "cell_type": "markdown",
      "source": [
        "Criamos a função que pegará o caminho de cada imagem de teste e treino e salvará no arquivo txt que o YOLOv4 espera para saber onde está cada imagem de treino e teste"
      ],
      "metadata": {
        "id": "rcKYRhB51uSz"
      }
    },
    {
      "cell_type": "code",
      "execution_count": null,
      "metadata": {
        "id": "2eiqAC-Dix8J"
      },
      "outputs": [],
      "source": [
        "def create_file_with_images_path_for_yolo(folder: str, subfolder: str, file_name: str, file_type: str):\n",
        "  image_files = []\n",
        "  path = os.path.join(folder, subfolder)\n",
        "  print(path)\n",
        "  os.chdir(path)\n",
        "  for filename in os.listdir(os.getcwd()):\n",
        "      if filename.endswith(file_type):\n",
        "          image_files.append(path + \"/\" + filename)\n",
        "  os.chdir(\"..\")\n",
        "  with open(file_name+\".txt\", \"w\") as outfile:\n",
        "      for image in image_files:\n",
        "          outfile.write(image)\n",
        "          outfile.write(\"\\n\")\n",
        "      outfile.close()\n",
        "  os.chdir(\"..\")"
      ]
    },
    {
      "cell_type": "markdown",
      "source": [
        "Chamada da função para ambos"
      ],
      "metadata": {
        "id": "hmUEH16R19dv"
      }
    },
    {
      "cell_type": "code",
      "execution_count": null,
      "metadata": {
        "colab": {
          "base_uri": "https://localhost:8080/"
        },
        "id": "v8YvQpS1j1nR",
        "outputId": "2e975434-9d32-407b-ce82-8f33b769cbdd"
      },
      "outputs": [
        {
          "output_type": "stream",
          "name": "stdout",
          "text": [
            "data/test\n",
            "data/obj\n"
          ]
        }
      ],
      "source": [
        "create_file_with_images_path_for_yolo('data', 'test', 'test','png')\n",
        "create_file_with_images_path_for_yolo('data', 'obj', 'train','png')"
      ]
    },
    {
      "cell_type": "markdown",
      "source": [
        "Download de uma rede pré-treinada que ajudará no treino da nossa classificação"
      ],
      "metadata": {
        "id": "Dgf3fNsn2CXE"
      }
    },
    {
      "cell_type": "code",
      "execution_count": null,
      "metadata": {
        "id": "EbvuGebVlCFM"
      },
      "outputs": [],
      "source": [
        "!wget https://github.com/AlexeyAB/darknet/releases/download/darknet_yolo_v3_optimal/yolov4.conv.137"
      ]
    },
    {
      "cell_type": "markdown",
      "source": [
        "# Treino"
      ],
      "metadata": {
        "id": "k4c7XUBH2ghQ"
      }
    },
    {
      "cell_type": "markdown",
      "source": [
        "Chegamos a parte mais esperada, o treino do nosso modelo. O treino levou por volta de 16 horas."
      ],
      "metadata": {
        "id": "cy2Qou3c2m2i"
      }
    },
    {
      "cell_type": "code",
      "execution_count": null,
      "metadata": {
        "id": "oL7-chL7lRfo"
      },
      "outputs": [],
      "source": [
        "%cd /content/darknet\n",
        "!./darknet detector train data/obj.data cfg/yolov4-obj.cfg yolov4.conv.137 -dont_show -map"
      ]
    },
    {
      "cell_type": "markdown",
      "source": [
        "Após o treino, vamos criar esse função auxiliar para mostrar uma imagem"
      ],
      "metadata": {
        "id": "7IP4RykY2357"
      }
    },
    {
      "cell_type": "code",
      "execution_count": null,
      "metadata": {
        "id": "hfNKmhwS2DNw"
      },
      "outputs": [],
      "source": [
        "def imShow(path):\n",
        "  import cv2\n",
        "  import matplotlib.pyplot as plt\n",
        "  %matplotlib inline\n",
        "\n",
        "  image = cv2.imread(path)\n",
        "  height, width = image.shape[:2]\n",
        "  resized_image = cv2.resize(image,(3*width, 3*height), interpolation = cv2.INTER_CUBIC)\n",
        "\n",
        "  fig = plt.gcf()\n",
        "  fig.set_size_inches(18, 10)\n",
        "  plt.axis(\"off\")\n",
        "  plt.imshow(cv2.cvtColor(resized_image, cv2.COLOR_BGR2RGB))\n",
        "  plt.show()"
      ]
    },
    {
      "cell_type": "markdown",
      "source": [
        "Agora podemos ver como ficou o gráfico após o treinamento. Nele é possível ver as médias de precisão e a loss"
      ],
      "metadata": {
        "id": "oZc4Tw1s29Qt"
      }
    },
    {
      "cell_type": "code",
      "execution_count": null,
      "metadata": {
        "id": "l4E1rnfS13l6"
      },
      "outputs": [],
      "source": [
        "imShow('chart.png')"
      ]
    },
    {
      "cell_type": "markdown",
      "source": [
        "Para realizar uma classificação, basta mudar o tamanho do batch e as subdivisoes"
      ],
      "metadata": {
        "id": "1j3hszFd3GSj"
      }
    },
    {
      "cell_type": "code",
      "execution_count": null,
      "metadata": {
        "id": "FgV98LeKJ8u6"
      },
      "outputs": [],
      "source": [
        "%cd cfg\n",
        "!sed -i 's/batch=64/batch=1/' yolov4-obj.cfg\n",
        "!sed -i 's/subdivisions=32/subdivisions=1/' yolov4-obj.cfg\n",
        "%cd .."
      ]
    },
    {
      "cell_type": "markdown",
      "source": [
        "E chamar o yolov4 com os melhores pesos que alcançamos e a imagem que deseja testar"
      ],
      "metadata": {
        "id": "7DOkeAKH3OGo"
      }
    },
    {
      "cell_type": "code",
      "execution_count": null,
      "metadata": {
        "id": "JSI3LnGNKU8F"
      },
      "outputs": [],
      "source": [
        "!./darknet detector test data/obj.data cfg/yolov4-obj.cfg /content/drive/MyDrive/faceMaskYolo/backup-13/yolov4-obj_best.weights /content/drive/MyDrive/faceMaskYolo/masked.jpg -thresh 0.3\n",
        "imShow('predictions.jpg')"
      ]
    }
  ],
  "metadata": {
    "accelerator": "GPU",
    "colab": {
      "background_execution": "on",
      "collapsed_sections": [],
      "machine_shape": "hm",
      "name": "Mask_detection.ipynb",
      "provenance": [],
      "toc_visible": true,
      "include_colab_link": true
    },
    "kernelspec": {
      "display_name": "Python 3",
      "name": "python3"
    },
    "language_info": {
      "name": "python"
    }
  },
  "nbformat": 4,
  "nbformat_minor": 0
}